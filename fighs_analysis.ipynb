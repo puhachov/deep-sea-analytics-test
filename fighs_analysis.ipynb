{
 "cells": [
  {
   "cell_type": "markdown",
   "metadata": {},
   "source": [
    "## Data Exploration"
   ]
  },
  {
   "cell_type": "code",
   "execution_count": null,
   "metadata": {},
   "outputs": [],
   "source": [
    "import pandas as pd"
   ]
  },
  {
   "cell_type": "code",
   "execution_count": null,
   "metadata": {},
   "outputs": [],
   "source": [
    "\"\"\"Reading data\"\"\"\n",
    "\n",
    "df_outcome = pd.read_csv('http://www.sharecsv.com/dl/e593dd089bc5aaf6583b5187f96cb48e/outcome_interview.csv')\n",
    "df_event   = pd.read_csv('http://www.sharecsv.com/dl/f9b678bf4a60bafe3f0a4132313e194d/event_interview.csv')\n",
    "df_fighter = pd.read_csv('http://www.sharecsv.com/dl/4f1b611a0d9f96d7700adba8b387df21/fighter_interview.csv')"
   ]
  },
  {
   "cell_type": "code",
   "execution_count": null,
   "metadata": {},
   "outputs": [],
   "source": [
    "\"\"\"Data Exploration: check the what variables dataframe has\"\"\"\n",
    "df_outcome.head()\n"
   ]
  },
  {
   "cell_type": "code",
   "execution_count": null,
   "metadata": {},
   "outputs": [],
   "source": [
    "df_event.head()"
   ]
  },
  {
   "cell_type": "code",
   "execution_count": null,
   "metadata": {},
   "outputs": [],
   "source": [
    "df_fighter.head()"
   ]
  },
  {
   "cell_type": "code",
   "execution_count": null,
   "metadata": {},
   "outputs": [],
   "source": [
    "\"\"\"\n",
    "    The objective is to get all matchups containing fighters' names, nationalities and an \n",
    "    event name they participated.\n",
    "    \n",
    "    The outcome table must have the following structure:    \n",
    "    | fighter1_name | fighter2_name | fighter1_nationality | fighter2_nationality | event_name |\n",
    "    \n",
    "    Therefore, we will join events with outcomes on the event id, and then join the resulted table twice with 'fighter' \n",
    "    table on the fighter1_id and fighter2_id\n",
    "\n",
    "\"\"\" \n",
    "df_merged = \\\n",
    "        df_event.merge(df_outcome, \n",
    "               left_on='id', \n",
    "               right_on='event_id', \n",
    "               suffixes=['_event','_outcome'])\\\n",
    "        .merge(df_fighter,\n",
    "              left_on = 'fighter1_id',\n",
    "              right_on= 'id',\n",
    "              suffixes=['_event_outcome', '_fighter1'])\\\n",
    "        .merge(df_fighter,\n",
    "              left_on = 'fighter2_id',\n",
    "              right_on= 'id',\n",
    "              suffixes=['_event_outcome_fighter1', '_fighter2'])\n",
    "\n",
    "        \n",
    "\"\"\"Print all columns that are in the joined table\"\"\"\n",
    "df_merged.columns"
   ]
  },
  {
   "cell_type": "code",
   "execution_count": null,
   "metadata": {},
   "outputs": [],
   "source": [
    "\"\"\"Select columns that we are interested in and rename them\"\"\"\n",
    "df_matchups = df_merged[['name_fighter1', 'name', 'nationality_event_outcome_fighter1', 'nationality_fighter2', 'name_event_outcome']]\n",
    "df_matchups.columns = ['fighter1_name', 'fighter2_name', 'fighter1_nationality', 'fighter2_nationality', 'event_name']\n",
    "df_matchups.head()\n"
   ]
  },
  {
   "cell_type": "code",
   "execution_count": null,
   "metadata": {},
   "outputs": [],
   "source": [
    "\"\"\"\n",
    "    First row looks suspicious. An event called Legacy FC 45: Todhunter vs. Smith have fighters \n",
    "    Ed Cline and JC Cottrell, but logically, it should be Todhunter and Smith. Simple googling \n",
    "    tells that the main fight Todhunter vs. Smith has been canceled due to Todhunter's knee injury and has been replaced\n",
    "    with Cline vs. Cottrell. Further research shows that some events do not contain all fights that took place\n",
    "    \n",
    "    Nevertheless, let's sort data by event_name to see all fighters of the event:\n",
    "\"\"\"\n",
    "df_matchups = df_matchups.sort_values('event_name')\n",
    "df_matchups.head(10)\n"
   ]
  },
  {
   "cell_type": "code",
   "execution_count": null,
   "metadata": {},
   "outputs": [],
   "source": [
    "\"\"\"Now it looks better. Let's save results to csv file\"\"\"\n",
    "df_matchups.to_csv('matchups.csv', index=False)"
   ]
  },
  {
   "cell_type": "code",
   "execution_count": null,
   "metadata": {},
   "outputs": [],
   "source": [
    "\"\"\"\n",
    "    The event names do not seem to be exactly correct. \n",
    "    Some event are named after the promoter along with the event edition and fighters' names.\n",
    "    For example, event KSW 42: Narkun vs. Khalidov. Let's check its outcome:\n",
    "    \n",
    "\"\"\"\n",
    "df_event[df_event.name=='KSW 42: Narkun vs. Khalidov']\n",
    "df_outcome[df_outcome.event_id==1312]"
   ]
  },
  {
   "cell_type": "code",
   "execution_count": null,
   "metadata": {},
   "outputs": [],
   "source": [
    "\"\"\"\n",
    "    There are several fights happen in that event. Let's find out who are the fighters\n",
    "\"\"\"\n",
    "df_outcome[df_outcome.event_id==1312]\\\n",
    "    .merge(df_fighter, left_on='fighter1_id', right_on='id')\\\n",
    "    .merge(df_fighter, left_on='fighter2_id', right_on='id')"
   ]
  },
  {
   "cell_type": "markdown",
   "metadata": {},
   "source": [
    "Hence, the event called 'KSW 42: Narkun vs. Khalidov' has 7 fights, including Narkun and Halidov, \n",
    "but there are other fighters as well. Therefore, it got me confused. I checked the event page:\n",
    "http://www.kswmma.com/en/index.php?s=news&newsID=2551&ksw-42-results\n",
    "and found that fights from the results above are in there\n"
   ]
  },
  {
   "cell_type": "markdown",
   "metadata": {},
   "source": [
    "## Distribution of fighters across nationalities"
   ]
  },
  {
   "cell_type": "code",
   "execution_count": null,
   "metadata": {},
   "outputs": [],
   "source": [
    "\"\"\"\n",
    "    We will use the results to plot the distribution of fighters across countries. First, we stack the subsets of\n",
    "    dataframes for each of fighter with his nationality\n",
    "\"\"\"\n",
    "df_part_fighters = pd.concat([df_matchups[['fighter1_name', 'fighter1_nationality']],\n",
    "                              df_matchups[['fighter2_name', 'fighter2_nationality']]\\\n",
    "                              .rename(columns = {'fighter2_name': 'fighter1_name',\n",
    "                                                 'fighter2_nationality': 'fighter1_nationality'\n",
    "                                                }\n",
    "                                     )\n",
    "                             ],\n",
    "                             axis=0, ignore_index=True\n",
    "                   )\n",
    "df_part_fighters = pd.concat([df_matchups[['fighter1_name', 'fighter1_nationality']],\n",
    "                              df_matchups[['fighter2_name', 'fighter2_nationality']]\\\n",
    "                              .rename(columns = {'fighter2_name': 'fighter1_name',\n",
    "                                                 'fighter2_nationality': 'fighter1_nationality'\n",
    "                                                }\n",
    "                                     )\n",
    "                             ],\n",
    "                             axis=0, ignore_index=True\n",
    "                   )\n",
    "df_part_fighters.columns = ['name', 'nationality']"
   ]
  },
  {
   "cell_type": "code",
   "execution_count": null,
   "metadata": {},
   "outputs": [],
   "source": [
    "\"\"\"\n",
    "    Before plotting, we need to do some data wrangling\n",
    "    1. Check if there are rows with NAs and drop them in this case\n",
    "    2. Some countries can have a variety of names. We have to check what countries are in the dataset\n",
    "\"\"\"\n",
    "df_part_fighters = df_part_fighters.dropna(axis=0)\n",
    "df_part_fighters.nationality.unique()"
   ]
  },
  {
   "cell_type": "code",
   "execution_count": null,
   "metadata": {},
   "outputs": [],
   "source": [
    "\"\"\"\n",
    "    There are ambiguous names: USA/United States/United states, Holland/Netherlands - merge them \n",
    "\"\"\"\n",
    "df_part_fighters.loc[(df_part_fighters.nationality=='United States')\\\n",
    "                     |(df_part_fighters.nationality=='United states'), 'nationality'] = 'United States of America'\n",
    "df_part_fighters.loc[df_part_fighters.nationality=='Holland', 'nationality'] = 'Netherlands'"
   ]
  },
  {
   "cell_type": "code",
   "execution_count": null,
   "metadata": {},
   "outputs": [],
   "source": [
    "df_country_data = df_part_fighters\\\n",
    "                  .drop_duplicates('name')\\\n",
    "                  .groupby(by='nationality', \n",
    "                           as_index=False)\\\n",
    "                  .count()\\\n",
    "                  .sort_values('name', ascending=False)\n",
    "df_country_data.columns=['country', 'count']\n",
    "\n",
    "#Print top 5 countries\n",
    "df_country_data.head()"
   ]
  },
  {
   "cell_type": "code",
   "execution_count": null,
   "metadata": {},
   "outputs": [],
   "source": [
    "\"\"\"\n",
    "    How many different nationalities there are in the data\n",
    "\"\"\"\n",
    "df_country_data.country.unique().shape"
   ]
  },
  {
   "cell_type": "code",
   "execution_count": null,
   "metadata": {},
   "outputs": [],
   "source": [
    "\"\"\"\n",
    "    There are 112 countries in total. To plot categorical data across countries, we will use horizontal bar chart\n",
    "    Let's plot top 25 countries, for the start\n",
    "\"\"\"\n",
    "import seaborn as sns\n",
    "import matplotlib.pyplot as plt\n",
    "sns.set(style=\"whitegrid\")\n",
    "\n",
    "# Initialize the matplotlib figure\n",
    "f, ax = plt.subplots(figsize=(10, 15))\n",
    "\n",
    "sns.set_color_codes()\n",
    "g = sns.barplot(x=\"count\", y=\"country\", data=df_country_data.iloc[:25],\n",
    "            label=\"count\", color=\"b\", orient='h')\\\n",
    "       .set_title(\"Distribution of fighters' nationalities\")\n",
    "\n",
    "# Add a legend and informative axis label\n",
    "ax.legend(loc=\"lower right\", frameon=True)\n",
    "ax.set(ylabel=\"Country\",\n",
    "       xlabel=\"Number of fighters\")\n",
    "sns.despine(left=True, bottom=False)"
   ]
  },
  {
   "cell_type": "code",
   "execution_count": null,
   "metadata": {},
   "outputs": [],
   "source": [
    "\"\"\"\n",
    "    Barchart suggests that top-10 countries has most of the fighters (USA, Brazil, England, Japan ...) \n",
    "    \n",
    "    There also an option to build an interactive pie chart, as a way to visualise categorical data\n",
    "\"\"\"\n",
    "\n",
    "#pip install python-nvd3\n",
    "\n",
    "from nvd3 import pieChart\n",
    "output_file = open('distribution.html', 'w')\n",
    "cutoff = 25\n",
    "\n",
    "chart = pieChart(name='pieChart', color_category='category20c', height=450, width=450)\n",
    "xdata = df_country_data['country'].tolist()[:cutoff]\n",
    "ydata = df_country_data['count'].tolist()[:cutoff]\n",
    "extra_serie = {\"tooltip\": {\"y_start\": \"\", \"y_end\": \" cal\"}}\n",
    "chart.add_serie(y=ydata, x=xdata, extra=extra_serie)\n",
    "chart.buildhtml()\n",
    "output_file.write(chart.htmlcontent)\n",
    "output_file.close()\n",
    "\n",
    "\"\"\"\n",
    "    For the best rendering open html file in the project folder\n",
    "\"\"\"\n",
    "chart"
   ]
  }
 ],
 "metadata": {
  "kernelspec": {
   "display_name": "Python 3",
   "language": "python",
   "name": "python3"
  },
  "language_info": {
   "codemirror_mode": {
    "name": "ipython",
    "version": 3
   },
   "file_extension": ".py",
   "mimetype": "text/x-python",
   "name": "python",
   "nbconvert_exporter": "python",
   "pygments_lexer": "ipython3",
   "version": "3.6.4"
  }
 },
 "nbformat": 4,
 "nbformat_minor": 2
}
